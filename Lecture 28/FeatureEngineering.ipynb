{
 "cells": [
  {
   "cell_type": "markdown",
   "metadata": {},
   "source": [
    "# Feature Engineering and Selection"
   ]
  },
  {
   "cell_type": "code",
   "execution_count": 10,
   "metadata": {},
   "outputs": [
    {
     "name": "stdout",
     "output_type": "stream",
     "text": [
      "After imputation:\n",
      "    Feature1  Feature2  Feature3\n",
      "0       1.0  2.000000      3.75\n",
      "1       2.0  3.666667      3.00\n",
      "2       3.0  4.000000      3.50\n",
      "3       4.0  5.000000      4.00\n",
      "4       5.0  3.666667      4.50\n"
     ]
    }
   ],
   "source": [
    "import pandas as pd\n",
    "from sklearn.impute import SimpleImputer\n",
    "\n",
    "# Sample data\n",
    "data={\n",
    "    'Feature1':[1.0,2.0,None,4.0,5.0],\n",
    "    'Feature2':[2.0,None,4.0,5.0,None],\n",
    "    'Feature3':[None,3.0,3.5,4.0,4.5]\n",
    "}\n",
    "df=pd.DataFrame(data)\n",
    "#Handling missing values\n",
    "imputer=SimpleImputer(strategy='mean')\n",
    "df_imputed=pd.DataFrame(imputer.fit_transform(df),columns=df.columns)\n",
    "print(\"After imputation:\\n\",df_imputed)"
   ]
  },
  {
   "cell_type": "markdown",
   "metadata": {},
   "source": [
    "Encoding categorical variables"
   ]
  },
  {
   "cell_type": "code",
   "execution_count": 11,
   "metadata": {},
   "outputs": [
    {
     "name": "stdout",
     "output_type": "stream",
     "text": [
      "After One-Hot encoding:\n",
      "    Color_Blue  Color_Green  Color_Red\n",
      "0         0.0          0.0        1.0\n",
      "1         1.0          0.0        0.0\n",
      "2         0.0          1.0        0.0\n",
      "3         1.0          0.0        0.0\n",
      "4         0.0          0.0        1.0\n"
     ]
    }
   ],
   "source": [
    "import pandas as pd\n",
    "from sklearn.preprocessing import OneHotEncoder\n",
    "\n",
    "#sample data\n",
    "data={\n",
    "    'Color':['Red','Blue','Green','Blue','Red']\n",
    "}\n",
    "df=pd.DataFrame(data)\n",
    "#encoding categorical variables\n",
    "encoder=OneHotEncoder(sparse_output=False)\n",
    "encoded_categories=encoder.fit_transform(df[['Color']])\n",
    "df_encoded=pd.DataFrame(encoded_categories,columns=encoder.get_feature_names_out(['Color']))\n",
    "df=pd.concat([df,df_encoded],axis=1).drop('Color',axis=1)\n",
    "print(\"After One-Hot encoding:\\n\",df)"
   ]
  },
  {
   "cell_type": "markdown",
   "metadata": {},
   "source": [
    "Feature Scaling"
   ]
  },
  {
   "cell_type": "code",
   "execution_count": 12,
   "metadata": {},
   "outputs": [
    {
     "name": "stdout",
     "output_type": "stream",
     "text": [
      "After Min-Max Scaling:\n",
      "    Feature1  Feature2\n",
      "0      0.00      0.00\n",
      "1      0.25      0.25\n",
      "2      0.50      0.50\n",
      "3      0.75      0.75\n",
      "4      1.00      1.00\n"
     ]
    }
   ],
   "source": [
    "import pandas as pd\n",
    "from sklearn.preprocessing import MinMaxScaler\n",
    "#sample data\n",
    "data={\n",
    "    'Feature1':[10,20,30,40,50],\n",
    "    'Feature2':[100,200,300,400,500]\n",
    "}\n",
    "df=pd.DataFrame(data)\n",
    "#feature scaling\n",
    "scaler=MinMaxScaler()\n",
    "df_scaled=pd.DataFrame(scaler.fit_transform(df),columns=df.columns)\n",
    "print(\"After Min-Max Scaling:\\n\",df_scaled)"
   ]
  },
  {
   "cell_type": "markdown",
   "metadata": {},
   "source": [
    "Feature Creation"
   ]
  },
  {
   "cell_type": "code",
   "execution_count": 15,
   "metadata": {},
   "outputs": [
    {
     "name": "stdout",
     "output_type": "stream",
     "text": [
      "After creating polynomial features:\n",
      "    Feature1  Feature2  Feature1^2  Feature1 Feature2  Feature2^2\n",
      "0       1.0       2.0         1.0                2.0         4.0\n",
      "1       2.0       3.0         4.0                6.0         9.0\n",
      "2       3.0       4.0         9.0               12.0        16.0\n",
      "3       4.0       5.0        16.0               20.0        25.0\n",
      "4       5.0       6.0        25.0               30.0        36.0\n"
     ]
    }
   ],
   "source": [
    "import pandas as pd\n",
    "from sklearn.preprocessing import PolynomialFeatures\n",
    "#sample data\n",
    "data={\n",
    "    'Feature1':[1,2,3,4,5],\n",
    "    'Feature2':[2,3,4,5,6]\n",
    "}\n",
    "df=pd.DataFrame(data)\n",
    "#feature creation\n",
    "poly=PolynomialFeatures(degree=2,include_bias=False)\n",
    "poly_features=poly.fit_transform(df)\n",
    "df_poly=pd.DataFrame(poly_features,columns=poly.get_feature_names_out(['Feature1','Feature2']))\n",
    "print(\"After creating polynomial features:\\n\",df_poly)"
   ]
  }
 ],
 "metadata": {
  "kernelspec": {
   "display_name": "Python 3",
   "language": "python",
   "name": "python3"
  },
  "language_info": {
   "codemirror_mode": {
    "name": "ipython",
    "version": 3
   },
   "file_extension": ".py",
   "mimetype": "text/x-python",
   "name": "python",
   "nbconvert_exporter": "python",
   "pygments_lexer": "ipython3",
   "version": "3.11.9"
  }
 },
 "nbformat": 4,
 "nbformat_minor": 2
}
