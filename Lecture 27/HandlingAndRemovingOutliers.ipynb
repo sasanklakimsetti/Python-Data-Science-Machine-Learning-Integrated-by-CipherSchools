{
 "cells": [
  {
   "cell_type": "markdown",
   "metadata": {},
   "source": [
    "Handling and Removing outliers\n",
    "Definition:\n",
    "• Outliers: Outliers are data points that differ significantly from other observations. They can occur due to variability in the data or experimental errors.\n",
    "• Handling Outliers: This involves identifying and deciding whether to remove or adjust outliers to improve the accuracy of statistical analyses and machine learning models,\n",
    "Use Case in Real Life:\n",
    "• Financial Data Analysis: Identify and remove outliers in financial transaction data to prevent fraudulent activities and improve the accuracy of financial models.\n",
    "• Customer Data Management: Clean customer data by handling outliers in age, income, and spending to create accurate customer segments and improve marketing strategies.\n",
    "• Health Data Analysis: Detect and handle outliers in patient health records, such as blood pressure and cholesterol levels, to ensure accurate diagnoses and treatment plans."
   ]
  },
  {
   "cell_type": "code",
   "execution_count": 2,
   "metadata": {},
   "outputs": [
    {
     "name": "stdout",
     "output_type": "stream",
     "text": [
      "      Name  Age   Salary   Department\n",
      "0    Alice   25    50000           HR\n",
      "1      Bob   30  1200000  Engineering\n",
      "2  Charlie   35    70000  Engineering\n",
      "3    David   50    60000           HR\n",
      "4      Eve   28    80000           HR\n",
      "5    Frank   40    55000        Sales\n",
      "6    Grace   50    85000        Sales\n",
      "7     Hank   60    90000        Sales\n",
      "8      Ivy   32  1500000  Engineering\n",
      "9     Jack   45    62000  Engineering\n"
     ]
    }
   ],
   "source": [
    "import pandas as pd\n",
    "# Loading the dataset\n",
    "df=pd.read_csv(\"C:\\Personal Coding\\Python, Data Science & Machine Learning Integrated by CipherSchools\\Lecture 27\\outliers_data.csv\")\n",
    "print(df)"
   ]
  },
  {
   "cell_type": "code",
   "execution_count": 3,
   "metadata": {},
   "outputs": [
    {
     "data": {
      "image/png": "[encoded data removed]",
      "text/plain": [
       "<Figure size 1000x500 with 2 Axes>"
      ]
     },
     "metadata": {},
     "output_type": "display_data"
    }
   ],
   "source": [
    "import matplotlib.pyplot as plt\n",
    "# Boxplot to visualize outliers in the Age column\n",
    "plt.figure(figsize=(10,5))\n",
    "plt.subplot(1,2,1)\n",
    "plt.boxplot(df['Age'].dropna())\n",
    "plt.title('Boxplot of Age')\n",
    "\n",
    "# Boxplot to visualize outliers in the Salary column\n",
    "plt.subplot(1,2,2)\n",
    "plt.boxplot(df['Salary'].dropna())\n",
    "plt.title('Boxplot of Salary')\n",
    "\n",
    "plt.show()"
   ]
  },
  {
   "cell_type": "code",
   "execution_count": 4,
   "metadata": {},
   "outputs": [
    {
     "name": "stdout",
     "output_type": "stream",
     "text": [
      "Data after capping the outliers using IQR method: \n",
      "      Name  Age   Salary   Department\n",
      "0    Alice   25    50000           HR\n",
      "1      Bob   30  1200000  Engineering\n",
      "2  Charlie   35    70000  Engineering\n",
      "3    David   50    60000           HR\n",
      "4      Eve   28    80000           HR\n",
      "5    Frank   40    55000        Sales\n",
      "6    Grace   50    85000        Sales\n",
      "7     Hank   60    90000        Sales\n",
      "8      Ivy   32  1500000  Engineering\n",
      "9     Jack   45    62000  Engineering\n",
      "Data after capping the outliers using IQR method: \n",
      "      Name  Age    Salary   Department\n",
      "0    Alice   25   50000.0           HR\n",
      "1      Bob   30  131125.0  Engineering\n",
      "2  Charlie   35   70000.0  Engineering\n",
      "3    David   50   60000.0           HR\n",
      "4      Eve   28   80000.0           HR\n",
      "5    Frank   40   55000.0        Sales\n",
      "6    Grace   50   85000.0        Sales\n",
      "7     Hank   60   90000.0        Sales\n",
      "8      Ivy   32  131125.0  Engineering\n",
      "9     Jack   45   62000.0  Engineering\n"
     ]
    }
   ],
   "source": [
    "# Handling Outliers - Capping Outliers\n",
    "# Capping the outliers using IQR method\n",
    "df_capped=df.copy()\n",
    "for col in ['Age','Salary']:\n",
    "    Q1=df_capped[col].quantile(0.25)\n",
    "    Q3=df_capped[col].quantile(0.75)\n",
    "    IQR=Q3-Q1\n",
    "    lower_bound=Q1-1.5*IQR\n",
    "    upper_bound=Q3+1.5*IQR\n",
    "    df_capped[col]=df_capped[col].apply(lambda x:upper_bound if x>upper_bound else (lower_bound if x<lower_bound else x))\n",
    "    print('Data after capping the outliers using IQR method: ')\n",
    "    print(df_capped)"
   ]
  },
  {
   "cell_type": "code",
   "execution_count": 6,
   "metadata": {},
   "outputs": [
    {
     "name": "stdout",
     "output_type": "stream",
     "text": [
      "Data after replacing outliers with median values: \n",
      "      Name   Age   Salary   Department\n",
      "0    Alice  25.0    50000           HR\n",
      "1      Bob  30.0  1200000  Engineering\n",
      "2  Charlie  35.0    70000  Engineering\n",
      "3    David  50.0    60000           HR\n",
      "4      Eve  28.0    80000           HR\n",
      "5    Frank  40.0    55000        Sales\n",
      "6    Grace  50.0    85000        Sales\n",
      "7     Hank  37.5    90000        Sales\n",
      "8      Ivy  32.0  1500000  Engineering\n",
      "9     Jack  45.0    62000  Engineering\n",
      "Data after replacing outliers with median values: \n",
      "      Name   Age   Salary   Department\n",
      "0    Alice  25.0  50000.0           HR\n",
      "1      Bob  30.0  75000.0  Engineering\n",
      "2  Charlie  35.0  70000.0  Engineering\n",
      "3    David  50.0  60000.0           HR\n",
      "4      Eve  28.0  80000.0           HR\n",
      "5    Frank  40.0  55000.0        Sales\n",
      "6    Grace  50.0  85000.0        Sales\n",
      "7     Hank  37.5  90000.0        Sales\n",
      "8      Ivy  32.0  75000.0  Engineering\n",
      "9     Jack  45.0  62000.0  Engineering\n"
     ]
    }
   ],
   "source": [
    "# Replacing the outliers with median values\n",
    "df_replaced=df.copy()\n",
    "for col in ['Age','Salary']:\n",
    "    Q1=df_replaced[col].quantile(0.25)\n",
    "    Q3=df_replaced[col].quantile(0.75)\n",
    "    IQR=Q3-Q1\n",
    "    lower_bound=Q1-1.5*IQR\n",
    "    upper_bound=Q1+1.5*IQR\n",
    "    median=df_replaced[col].median()\n",
    "    df_replaced[col]=df_replaced[col].apply(lambda x: median if x>upper_bound or x<lower_bound else x)\n",
    "    print('Data after replacing outliers with median values: ')\n",
    "    print(df_replaced)"
   ]
  }
 ],
 "metadata": {
  "kernelspec": {
   "display_name": "Python 3",
   "language": "python",
   "name": "python3"
  },
  "language_info": {
   "codemirror_mode": {
    "name": "ipython",
    "version": 3
   },
   "file_extension": ".py",
   "mimetype": "text/x-python",
   "name": "python",
   "nbconvert_exporter": "python",
   "pygments_lexer": "ipython3",
   "version": "3.11.9"
  }
 },
 "nbformat": 4,
 "nbformat_minor": 2
}
