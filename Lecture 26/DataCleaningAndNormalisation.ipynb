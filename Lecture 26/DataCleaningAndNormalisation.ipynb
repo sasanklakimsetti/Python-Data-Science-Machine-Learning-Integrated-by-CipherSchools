{
 "cells": [
  {
   "cell_type": "markdown",
   "metadata": {},
   "source": [
    "# Data Cleaning and Normalization\n",
    "\n",
    "# Definition:\n",
    "#• Data Cleaning: Data cleaning involves identifying and correcting (or removing) errors and inconsistencies in data to improve its quality. Common tasks include handling missing values, removing duplicates, correcting errors, and ensuring consistency in data formats.\n",
    "#• Normalization: Normalization is the process of scaling numerical data to a standard range, typically between O and 1 , or transforming it to have a mean of O and a standard deviation of 1, This process helps improve the performance of machine learning algorithms and ensures that all features contribute equally to the result.\n",
    "\n",
    "#Use Case in Real Life:\n",
    "#• Preparing Data for Machine Leaming: Handle missing values and remove duplicates to ensure clean data. Normalize features to improve the performance of machine learning algorithms.\n",
    "#• Financial Data Analysis: Correct errors in transaction data and fill missing values. Normalize financial metrics for comparison across different scales.\n",
    "#• Customer Data Management: Ensure consistency in customer records and correct erroneous entries. Normalize customer age and income data for segmentation analysis.\n"
   ]
  },
  {
   "cell_type": "code",
   "execution_count": 1,
   "metadata": {},
   "outputs": [
    {
     "name": "stdout",
     "output_type": "stream",
     "text": [
      "      Name   Age   Salary   Department\n",
      "0    Alice  25.0  50000.0           HR\n",
      "1      Bob  30.0      NaN  Engineering\n",
      "2  Charlie  35.0  70000.0  Engineering\n",
      "3    David   NaN  60000.0           HR\n",
      "4      Eve  28.0  80000.0           HR\n",
      "5    Frank  40.0  55000.0        Sales\n",
      "6    Grace  50.0  85000.0        Sales\n",
      "7     Hank  60.0  90000.0        Sales\n"
     ]
    }
   ],
   "source": [
    "import pandas as pd\n",
    "import numpy as np\n",
    "#loading the dataset\n",
    "data=pd.read_csv(\"C:\\Personal Coding\\Python, Data Science & Machine Learning Integrated by CipherSchools\\Lecture 26\\sample_data.csv\")\n",
    "print(data)"
   ]
  },
  {
   "cell_type": "code",
   "execution_count": 5,
   "metadata": {},
   "outputs": [
    {
     "name": "stdout",
     "output_type": "stream",
     "text": [
      "Name          0\n",
      "Age           1\n",
      "Salary        1\n",
      "Department    0\n",
      "dtype: int64\n"
     ]
    }
   ],
   "source": [
    "#checking for missing values for every column in the dataset\n",
    "print(data.isnull().sum())"
   ]
  },
  {
   "cell_type": "code",
   "execution_count": 4,
   "metadata": {},
   "outputs": [
    {
     "name": "stdout",
     "output_type": "stream",
     "text": [
      "<class 'pandas.core.frame.DataFrame'>\n",
      "RangeIndex: 8 entries, 0 to 7\n",
      "Data columns (total 4 columns):\n",
      " #   Column      Non-Null Count  Dtype  \n",
      "---  ------      --------------  -----  \n",
      " 0   Name        8 non-null      object \n",
      " 1   Age         7 non-null      float64\n",
      " 2   Salary      7 non-null      float64\n",
      " 3   Department  8 non-null      object \n",
      "dtypes: float64(2), object(2)\n",
      "memory usage: 388.0+ bytes\n"
     ]
    }
   ],
   "source": [
    "data.info()"
   ]
  },
  {
   "cell_type": "code",
   "execution_count": 6,
   "metadata": {},
   "outputs": [
    {
     "name": "stdout",
     "output_type": "stream",
     "text": [
      "      Name   Age   Salary   Department\n",
      "0    Alice  25.0  50000.0           HR\n",
      "2  Charlie  35.0  70000.0  Engineering\n",
      "4      Eve  28.0  80000.0           HR\n",
      "5    Frank  40.0  55000.0        Sales\n",
      "6    Grace  50.0  85000.0        Sales\n",
      "7     Hank  60.0  90000.0        Sales\n"
     ]
    }
   ],
   "source": [
    "# Remove rows with any missing values\n",
    "data_cleaned=data.dropna()  #drops the null value rows from the dataframe\n",
    "print(data_cleaned)"
   ]
  },
  {
   "cell_type": "code",
   "execution_count": 8,
   "metadata": {},
   "outputs": [
    {
     "name": "stdout",
     "output_type": "stream",
     "text": [
      "      Name        Age   Salary   Department\n",
      "0    Alice  25.000000  50000.0           HR\n",
      "1      Bob  30.000000  70000.0  Engineering\n",
      "2  Charlie  35.000000  70000.0  Engineering\n",
      "3    David  38.285714  60000.0           HR\n",
      "4      Eve  28.000000  80000.0           HR\n",
      "5    Frank  40.000000  55000.0        Sales\n",
      "6    Grace  50.000000  85000.0        Sales\n",
      "7     Hank  60.000000  90000.0        Sales\n"
     ]
    }
   ],
   "source": [
    "# Fill missing values with a specific value\n",
    "data_filled=data.fillna({\n",
    "    'Age':data['Age'].mean(), #mean of age column\n",
    "    'Salary':data['Salary'].mean()  #mean of salary column\n",
    "})\n",
    "# median, mode can also be used to fill the missing value or even a random value\n",
    "print(data_filled)"
   ]
  },
  {
   "cell_type": "code",
   "execution_count": 9,
   "metadata": {},
   "outputs": [
    {
     "name": "stdout",
     "output_type": "stream",
     "text": [
      "      Name   Age   Salary   Department\n",
      "0    Alice  25.0  50000.0           HR\n",
      "1      Bob  30.0  50000.0  Engineering\n",
      "2  Charlie  35.0  70000.0  Engineering\n",
      "3    David  35.0  60000.0           HR\n",
      "4      Eve  28.0  80000.0           HR\n",
      "5    Frank  40.0  55000.0        Sales\n",
      "6    Grace  50.0  85000.0        Sales\n",
      "7     Hank  60.0  90000.0        Sales\n"
     ]
    },
    {
     "name": "stderr",
     "output_type": "stream",
     "text": [
      "C:\\Users\\saisa\\AppData\\Local\\Temp\\ipykernel_16404\\2886906697.py:2: FutureWarning: DataFrame.fillna with 'method' is deprecated and will raise in a future version. Use obj.ffill() or obj.bfill() instead.\n",
      "  data_ffill=data.fillna(method='ffill')\n"
     ]
    }
   ],
   "source": [
    "# Forward fill method to propagate the next values backward\n",
    "data_ffill=data.fillna(method='ffill')  #if any value is missing, the missing value will be filled by the value present in the above row\n",
    "print(data_ffill)"
   ]
  },
  {
   "cell_type": "code",
   "execution_count": 10,
   "metadata": {},
   "outputs": [
    {
     "name": "stdout",
     "output_type": "stream",
     "text": [
      "      Name   Age   Salary   Department\n",
      "0    Alice  25.0  50000.0           HR\n",
      "1      Bob  30.0  70000.0  Engineering\n",
      "2  Charlie  35.0  70000.0  Engineering\n",
      "3    David  28.0  60000.0           HR\n",
      "4      Eve  28.0  80000.0           HR\n",
      "5    Frank  40.0  55000.0        Sales\n",
      "6    Grace  50.0  85000.0        Sales\n",
      "7     Hank  60.0  90000.0        Sales\n"
     ]
    },
    {
     "name": "stderr",
     "output_type": "stream",
     "text": [
      "C:\\Users\\saisa\\AppData\\Local\\Temp\\ipykernel_16404\\2618874481.py:2: FutureWarning: DataFrame.fillna with 'method' is deprecated and will raise in a future version. Use obj.ffill() or obj.bfill() instead.\n",
      "  data_bfill=data.fillna(method='bfill')\n"
     ]
    }
   ],
   "source": [
    "# backward fill method to propagate the previous values forward\n",
    "data_bfill=data.fillna(method='bfill') #if any value is missing, the missing value will be filled by the value present in the bottom row\n",
    "print(data_bfill)"
   ]
  },
  {
   "cell_type": "code",
   "execution_count": 12,
   "metadata": {},
   "outputs": [
    {
     "name": "stdout",
     "output_type": "stream",
     "text": [
      "Before removing duplicates:\n",
      "        Name   Age   Salary   Department\n",
      "0     Alice  25.0  50000.0           HR\n",
      "1       Bob  30.0      NaN  Engineering\n",
      "2   Charlie  35.0  70000.0  Engineering\n",
      "3     David   NaN  60000.0           HR\n",
      "4       Eve  28.0  80000.0           HR\n",
      "5     Frank  40.0  55000.0        Sales\n",
      "6     Grace  50.0  85000.0        Sales\n",
      "7      Hank  60.0  90000.0        Sales\n",
      "8     Alice  25.0  50000.0           HR\n",
      "9       Bob  30.0      NaN  Engineering\n",
      "10    Alice  25.0  50000.0           HR\n",
      "11      Bob  30.0      NaN  Engineering\n",
      "After removing duplicates:\n",
      "       Name   Age   Salary   Department\n",
      "0    Alice  25.0  50000.0           HR\n",
      "1      Bob  30.0      NaN  Engineering\n",
      "2  Charlie  35.0  70000.0  Engineering\n",
      "3    David   NaN  60000.0           HR\n",
      "4      Eve  28.0  80000.0           HR\n",
      "5    Frank  40.0  55000.0        Sales\n",
      "6    Grace  50.0  85000.0        Sales\n",
      "7     Hank  60.0  90000.0        Sales\n"
     ]
    }
   ],
   "source": [
    "# Add duplicate rows for demonstration\n",
    "data=pd.concat([data,data.iloc[[0]],data.iloc[[1]]],ignore_index=True)\n",
    "print(\"Before removing duplicates:\\n\",data)\n",
    "# Remove duplicate rows\n",
    "data_no_duplicates=data.drop_duplicates()\n",
    "print('After removing duplicates:\\n',data_no_duplicates)"
   ]
  },
  {
   "cell_type": "code",
   "execution_count": 13,
   "metadata": {},
   "outputs": [
    {
     "name": "stdout",
     "output_type": "stream",
     "text": [
      "       Name   Age   Salary        Department\n",
      "0     Alice  25.0  50000.0   Human Resources\n",
      "1       Bob  30.0      NaN       Engineering\n",
      "2   Charlie  35.0  70000.0       Engineering\n",
      "3     David   NaN  60000.0   Human Resources\n",
      "4       Eve  28.0  80000.0   Human Resources\n",
      "5     Frank  40.0  55000.0  Sales Department\n",
      "6     Grace  50.0  85000.0  Sales Department\n",
      "7      Hank  60.0  90000.0  Sales Department\n",
      "8     Alice  25.0  50000.0   Human Resources\n",
      "9       Bob  30.0      NaN       Engineering\n",
      "10    Alice  25.0  50000.0   Human Resources\n",
      "11      Bob  30.0      NaN       Engineering\n"
     ]
    }
   ],
   "source": [
    "# Replace incorrect values in the 'Department' column\n",
    "data_corrected=data.replace({'Department':{'HR':'Human Resources','Sales':'Sales Department'}})\n",
    "print(data_corrected)"
   ]
  },
  {
   "cell_type": "code",
   "execution_count": 16,
   "metadata": {},
   "outputs": [
    {
     "name": "stdout",
     "output_type": "stream",
     "text": [
      "       Name   Age   Salary   Department\n",
      "0     alice  25.0  50000.0           hr\n",
      "1       bob  30.0      NaN  engineering\n",
      "2   charlie  35.0  70000.0  engineering\n",
      "3     david   NaN  60000.0           hr\n",
      "4       eve  28.0  80000.0           hr\n",
      "5     frank  40.0  55000.0        sales\n",
      "6     grace  50.0  85000.0        sales\n",
      "7      hank  60.0  90000.0        sales\n",
      "8     alice  25.0  50000.0           hr\n",
      "9       bob  30.0      NaN  engineering\n",
      "10    alice  25.0  50000.0           hr\n",
      "11      bob  30.0      NaN  engineering\n"
     ]
    }
   ],
   "source": [
    "# Convert all department names to lowercase for consistency\n",
    "data['Department']=data['Department'].str.lower()\n",
    "data['Name']=data['Name'].str.lower()\n",
    "print(data)"
   ]
  },
  {
   "cell_type": "markdown",
   "metadata": {},
   "source": [
    "Min-Max Normalization\n",
    "Definition\n",
    "• Min-max normalization is a technique to rescale the values of a feature to a fixed range, usually [0,1].\n",
    "• This is done by transforming each value in the feature such that it fits within the specified range\n",
    "\n",
    "Formula : Lecture 26/Screenshot 2024-08-01 185554.png"
   ]
  },
  {
   "cell_type": "code",
   "execution_count": 19,
   "metadata": {},
   "outputs": [
    {
     "name": "stdout",
     "output_type": "stream",
     "text": [
      "Original dataframe: \n",
      "       Name   Age   Salary   Department\n",
      "0     alice  25.0  50000.0           hr\n",
      "1       bob  30.0      NaN  engineering\n",
      "2   charlie  35.0  70000.0  engineering\n",
      "3     david   NaN  60000.0           hr\n",
      "4       eve  28.0  80000.0           hr\n",
      "5     frank  40.0  55000.0        sales\n",
      "6     grace  50.0  85000.0        sales\n",
      "7      hank  60.0  90000.0        sales\n",
      "8     alice  25.0  50000.0           hr\n",
      "9       bob  30.0      NaN  engineering\n",
      "10    alice  25.0  50000.0           hr\n",
      "11      bob  30.0      NaN  engineering\n",
      "Normalized dataframe: \n",
      "       Name       Age  Salary   Department\n",
      "0     alice  0.000000   0.000           hr\n",
      "1       bob  0.142857     NaN  engineering\n",
      "2   charlie  0.285714   0.500  engineering\n",
      "3     david       NaN   0.250           hr\n",
      "4       eve  0.085714   0.750           hr\n",
      "5     frank  0.428571   0.125        sales\n",
      "6     grace  0.714286   0.875        sales\n",
      "7      hank  1.000000   1.000        sales\n",
      "8     alice  0.000000   0.000           hr\n",
      "9       bob  0.142857     NaN  engineering\n",
      "10    alice  0.000000   0.000           hr\n",
      "11      bob  0.142857     NaN  engineering\n"
     ]
    }
   ],
   "source": [
    "# Apply min-max normalization using the formula\n",
    "data_normalized=data.copy()\n",
    "for col in ['Age','Salary']:\n",
    "    data_normalized[col]=(data[col]-data[col].min())/(data[col].max()-data[col].min())\n",
    "# print original and normalized dataframe\n",
    "print('Original dataframe: ')\n",
    "print(data)\n",
    "print('Normalized dataframe: ')\n",
    "print(data_normalized)"
   ]
  }
 ],
 "metadata": {
  "kernelspec": {
   "display_name": "Python 3",
   "language": "python",
   "name": "python3"
  },
  "language_info": {
   "codemirror_mode": {
    "name": "ipython",
    "version": 3
   },
   "file_extension": ".py",
   "mimetype": "text/x-python",
   "name": "python",
   "nbconvert_exporter": "python",
   "pygments_lexer": "ipython3",
   "version": "3.11.9"
  }
 },
 "nbformat": 4,
 "nbformat_minor": 2
}
